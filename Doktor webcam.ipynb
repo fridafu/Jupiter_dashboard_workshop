{
 "cells": [
  {
   "cell_type": "code",
   "execution_count": 11,
   "metadata": {
    "extensions": {
     "jupyter_dashboards": {
      "version": 1,
      "views": {
       "grid_default": {
        "col": 0,
        "height": 8,
        "hidden": false,
        "row": 0,
        "width": 4
       },
       "report_default": {}
      }
     }
    }
   },
   "outputs": [
    {
     "data": {
      "text/html": [
       "<img src=\"https://www.finse.uio.no/news/webcam/finsebilder/2018-01-26_12-00.jpg\"></img>"
      ],
      "text/plain": [
       "<IPython.core.display.HTML object>"
      ]
     },
     "execution_count": 11,
     "metadata": {},
     "output_type": "execute_result"
    }
   ],
   "source": [
    "from IPython.display import HTML\n",
    "\n",
    "HTML('<img src=\"https://www.finse.uio.no/news/webcam/finsebilder/2018-01-26_12-00.jpg\"></img>')"
   ]
  },
  {
   "cell_type": "code",
   "execution_count": 21,
   "metadata": {
    "extensions": {
     "jupyter_dashboards": {
      "version": 1,
      "views": {
       "grid_default": {
        "col": 0,
        "height": 12,
        "hidden": false,
        "row": 8,
        "width": 6
       },
       "report_default": {}
      }
     }
    }
   },
   "outputs": [
    {
     "data": {
      "text/html": [
       "<iframe width=\"560\" height=\"315\" src=\"https://www.bt.no/tv/embed/?id=100521\" allowfullscreen=\"true\"></iframe>"
      ],
      "text/plain": [
       "<IPython.core.display.HTML object>"
      ]
     },
     "execution_count": 21,
     "metadata": {},
     "output_type": "execute_result"
    }
   ],
   "source": [
    "from IPython.display import HTML\n",
    "\n",
    "HTML('<iframe width=\"560\" height=\"315\" src=\"https://www.bt.no/tv/embed/?id=100521\" allowfullscreen=\"true\"></iframe>')"
   ]
  },
  {
   "cell_type": "code",
   "execution_count": 12,
   "metadata": {
    "extensions": {
     "jupyter_dashboards": {
      "version": 1,
      "views": {
       "grid_default": {
        "hidden": true
       },
       "report_default": {}
      }
     }
    }
   },
   "outputs": [],
   "source": [
    "import ipywidgets as widgets"
   ]
  },
  {
   "cell_type": "code",
   "execution_count": 13,
   "metadata": {
    "extensions": {
     "jupyter_dashboards": {
      "version": 1,
      "views": {
       "grid_default": {
        "col": 0,
        "height": 4,
        "hidden": false,
        "row": 20,
        "width": 4
       },
       "report_default": {}
      }
     }
    }
   },
   "outputs": [
    {
     "data": {
      "application/vnd.jupyter.widget-view+json": {
       "model_id": "bb706f720e10444dac8a1d8bf5fba745",
       "version_major": 2,
       "version_minor": 0
      },
      "text/html": [
       "<p>Failed to display Jupyter Widget of type <code>Select</code>.</p>\n",
       "<p>\n",
       "  If you're reading this message in the Jupyter Notebook or JupyterLab Notebook, it may mean\n",
       "  that the widgets JavaScript is still loading. If this message persists, it\n",
       "  likely means that the widgets JavaScript library is either not installed or\n",
       "  not enabled. See the <a href=\"https://ipywidgets.readthedocs.io/en/stable/user_install.html\">Jupyter\n",
       "  Widgets Documentation</a> for setup instructions.\n",
       "</p>\n",
       "<p>\n",
       "  If you're reading this message in another frontend (for example, a static\n",
       "  rendering on GitHub or <a href=\"https://nbviewer.jupyter.org/\">NBViewer</a>),\n",
       "  it may mean that your frontend doesn't currently support widgets.\n",
       "</p>\n"
      ],
      "text/plain": [
       "Select(description='webcam:', index=1, options=('Finse Railway Station', 'Finse Research Centre'), rows=2, value='Finse Research Centre')"
      ]
     },
     "metadata": {},
     "output_type": "display_data"
    }
   ],
   "source": [
    "select=widgets.Select(\n",
    "    options=['Finse Railway Station', 'Finse Research Centre'],\n",
    "    value='Finse Research Centre',\n",
    "    rows=2,\n",
    "    description='webcam:',\n",
    "    disable=False)\n",
    "display(select)"
   ]
  },
  {
   "cell_type": "code",
   "execution_count": 15,
   "metadata": {
    "extensions": {
     "jupyter_dashboards": {
      "version": 1,
      "views": {
       "grid_default": {
        "col": 0,
        "height": 4,
        "hidden": false,
        "row": 24,
        "width": 4
       },
       "report_default": {}
      }
     }
    }
   },
   "outputs": [
    {
     "data": {
      "application/vnd.jupyter.widget-view+json": {
       "model_id": "457dd531379b47a38163e31fa7ee18e0",
       "version_major": 2,
       "version_minor": 0
      },
      "text/html": [
       "<p>Failed to display Jupyter Widget of type <code>RadioButtons</code>.</p>\n",
       "<p>\n",
       "  If you're reading this message in the Jupyter Notebook or JupyterLab Notebook, it may mean\n",
       "  that the widgets JavaScript is still loading. If this message persists, it\n",
       "  likely means that the widgets JavaScript library is either not installed or\n",
       "  not enabled. See the <a href=\"https://ipywidgets.readthedocs.io/en/stable/user_install.html\">Jupyter\n",
       "  Widgets Documentation</a> for setup instructions.\n",
       "</p>\n",
       "<p>\n",
       "  If you're reading this message in another frontend (for example, a static\n",
       "  rendering on GitHub or <a href=\"https://nbviewer.jupyter.org/\">NBViewer</a>),\n",
       "  it may mean that your frontend doesn't currently support widgets.\n",
       "</p>\n"
      ],
      "text/plain": [
       "RadioButtons(description='Webcam:', index=1, options=('Finse Railway Station', 'Finse Research Centre'), value='Finse Research Centre')"
      ]
     },
     "metadata": {},
     "output_type": "display_data"
    }
   ],
   "source": [
    "radio=widgets.RadioButtons(\n",
    "    options=['Finse Railway Station', 'Finse Research Centre'],\n",
    "    value='Finse Research Centre',\n",
    "    description='Webcam:',\n",
    "    disabled=False)\n",
    "\n",
    "display(radio)"
   ]
  },
  {
   "cell_type": "code",
   "execution_count": 16,
   "metadata": {
    "extensions": {
     "jupyter_dashboards": {
      "version": 1,
      "views": {
       "grid_default": {
        "col": 4,
        "height": 6,
        "hidden": false,
        "row": 20,
        "width": 4
       },
       "report_default": {}
      }
     }
    }
   },
   "outputs": [
    {
     "data": {
      "application/vnd.jupyter.widget-view+json": {
       "model_id": "a9512d7f82ae4945934a9d0f1fb66cb5",
       "version_major": 2,
       "version_minor": 0
      },
      "text/html": [
       "<p>Failed to display Jupyter Widget of type <code>Select</code>.</p>\n",
       "<p>\n",
       "  If you're reading this message in the Jupyter Notebook or JupyterLab Notebook, it may mean\n",
       "  that the widgets JavaScript is still loading. If this message persists, it\n",
       "  likely means that the widgets JavaScript library is either not installed or\n",
       "  not enabled. See the <a href=\"https://ipywidgets.readthedocs.io/en/stable/user_install.html\">Jupyter\n",
       "  Widgets Documentation</a> for setup instructions.\n",
       "</p>\n",
       "<p>\n",
       "  If you're reading this message in another frontend (for example, a static\n",
       "  rendering on GitHub or <a href=\"https://nbviewer.jupyter.org/\">NBViewer</a>),\n",
       "  it may mean that your frontend doesn't currently support widgets.\n",
       "</p>\n"
      ],
      "text/plain": [
       "Select(description='webcam:', index=1, options=('Finse Railway Station', 'Finse Research Centre'), rows=2, value='Finse Research Centre')"
      ]
     },
     "metadata": {},
     "output_type": "display_data"
    },
    {
     "data": {
      "application/vnd.jupyter.widget-view+json": {
       "model_id": "352fc2ebce4441159feca37dda0e3640",
       "version_major": 2,
       "version_minor": 0
      },
      "text/html": [
       "<p>Failed to display Jupyter Widget of type <code>RadioButtons</code>.</p>\n",
       "<p>\n",
       "  If you're reading this message in the Jupyter Notebook or JupyterLab Notebook, it may mean\n",
       "  that the widgets JavaScript is still loading. If this message persists, it\n",
       "  likely means that the widgets JavaScript library is either not installed or\n",
       "  not enabled. See the <a href=\"https://ipywidgets.readthedocs.io/en/stable/user_install.html\">Jupyter\n",
       "  Widgets Documentation</a> for setup instructions.\n",
       "</p>\n",
       "<p>\n",
       "  If you're reading this message in another frontend (for example, a static\n",
       "  rendering on GitHub or <a href=\"https://nbviewer.jupyter.org/\">NBViewer</a>),\n",
       "  it may mean that your frontend doesn't currently support widgets.\n",
       "</p>\n"
      ],
      "text/plain": [
       "RadioButtons(description='Webcam:', index=1, options=('Finse Railway Station', 'Finse Research Centre'), value='Finse Research Centre')"
      ]
     },
     "metadata": {},
     "output_type": "display_data"
    }
   ],
   "source": [
    "select=widgets.Select(\n",
    "    options=['Finse Railway Station', 'Finse Research Centre'],\n",
    "    value='Finse Research Centre',\n",
    "    rows=2,\n",
    "    description='Webcam:',\n",
    "    disable=False)\n",
    "\n",
    "radio=widgets.RadioButtons(\n",
    "    options=['Finse Railway Station', 'Finse Research Centre'],\n",
    "    value='Finse Research Centre',\n",
    "    description='Webcam:',\n",
    "    disabled=False)\n",
    "\n",
    "display(select,radio)"
   ]
  },
  {
   "cell_type": "code",
   "execution_count": 19,
   "metadata": {
    "extensions": {
     "jupyter_dashboards": {
      "version": 1,
      "views": {
       "grid_default": {
        "col": 8,
        "height": 5,
        "hidden": false,
        "row": 0,
        "width": 4
       },
       "report_default": {}
      }
     }
    }
   },
   "outputs": [
    {
     "data": {
      "application/vnd.jupyter.widget-view+json": {
       "model_id": "f7da3b6448ec40548f94e155dd7c795d",
       "version_major": 2,
       "version_minor": 0
      },
      "text/html": [
       "<p>Failed to display Jupyter Widget of type <code>HTML</code>.</p>\n",
       "<p>\n",
       "  If you're reading this message in the Jupyter Notebook or JupyterLab Notebook, it may mean\n",
       "  that the widgets JavaScript is still loading. If this message persists, it\n",
       "  likely means that the widgets JavaScript library is either not installed or\n",
       "  not enabled. See the <a href=\"https://ipywidgets.readthedocs.io/en/stable/user_install.html\">Jupyter\n",
       "  Widgets Documentation</a> for setup instructions.\n",
       "</p>\n",
       "<p>\n",
       "  If you're reading this message in another frontend (for example, a static\n",
       "  rendering on GitHub or <a href=\"https://nbviewer.jupyter.org/\">NBViewer</a>),\n",
       "  it may mean that your frontend doesn't currently support widgets.\n",
       "</p>\n"
      ],
      "text/plain": [
       "HTML(value='<img src=\"https://www.finse.uio.no/news/webcam/finsebilder/2018-01-26_12-00.jpg\"></img>', description='Finse Research Centre', style=DescriptionStyle(description_width='initial'))"
      ]
     },
     "metadata": {},
     "output_type": "display_data"
    }
   ],
   "source": [
    "webcam=widgets.HTML(\n",
    "    value='<img src=\"https://www.finse.uio.no/news/webcam/finsebilder/2018-01-26_12-00.jpg\"></img>',\n",
    "    description= 'Finse Research Centre', style={'description_width': 'initial'})\n",
    "\n",
    "display(webcam)"
   ]
  },
  {
   "cell_type": "code",
   "execution_count": 28,
   "metadata": {
    "extensions": {
     "jupyter_dashboards": {
      "version": 1,
      "views": {
       "grid_default": {
        "col": 8,
        "height": 8,
        "hidden": false,
        "row": 9,
        "width": 4
       },
       "report_default": {}
      }
     }
    }
   },
   "outputs": [
    {
     "data": {
      "application/vnd.jupyter.widget-view+json": {
       "model_id": "124c8b5dca614f54bdce5c1119167c35",
       "version_major": 2,
       "version_minor": 0
      },
      "text/html": [
       "<p>Failed to display Jupyter Widget of type <code>RadioButtons</code>.</p>\n",
       "<p>\n",
       "  If you're reading this message in the Jupyter Notebook or JupyterLab Notebook, it may mean\n",
       "  that the widgets JavaScript is still loading. If this message persists, it\n",
       "  likely means that the widgets JavaScript library is either not installed or\n",
       "  not enabled. See the <a href=\"https://ipywidgets.readthedocs.io/en/stable/user_install.html\">Jupyter\n",
       "  Widgets Documentation</a> for setup instructions.\n",
       "</p>\n",
       "<p>\n",
       "  If you're reading this message in another frontend (for example, a static\n",
       "  rendering on GitHub or <a href=\"https://nbviewer.jupyter.org/\">NBViewer</a>),\n",
       "  it may mean that your frontend doesn't currently support widgets.\n",
       "</p>\n"
      ],
      "text/plain": [
       "RadioButtons(description='Webcam:', index=1, options=('Finse Railway Station', 'Finse Research Centre'), value='Finse Research Centre')"
      ]
     },
     "metadata": {},
     "output_type": "display_data"
    },
    {
     "data": {
      "application/vnd.jupyter.widget-view+json": {
       "model_id": "e0e6f3f079aa4e888e2e591fdd55b70d",
       "version_major": 2,
       "version_minor": 0
      },
      "text/html": [
       "<p>Failed to display Jupyter Widget of type <code>HTML</code>.</p>\n",
       "<p>\n",
       "  If you're reading this message in the Jupyter Notebook or JupyterLab Notebook, it may mean\n",
       "  that the widgets JavaScript is still loading. If this message persists, it\n",
       "  likely means that the widgets JavaScript library is either not installed or\n",
       "  not enabled. See the <a href=\"https://ipywidgets.readthedocs.io/en/stable/user_install.html\">Jupyter\n",
       "  Widgets Documentation</a> for setup instructions.\n",
       "</p>\n",
       "<p>\n",
       "  If you're reading this message in another frontend (for example, a static\n",
       "  rendering on GitHub or <a href=\"https://nbviewer.jupyter.org/\">NBViewer</a>),\n",
       "  it may mean that your frontend doesn't currently support widgets.\n",
       "</p>\n"
      ],
      "text/plain": [
       "HTML(value='<img src=\"https://www.finse.uio.no/news/webcam/dagens.jpg\"></img>', description='Finse Research Centre', style=DescriptionStyle(description_width='initial'))"
      ]
     },
     "metadata": {},
     "output_type": "display_data"
    }
   ],
   "source": [
    "button=widgets.RadioButtons(\n",
    "    options=['Finse Railway Station', 'Finse Research Centre'],\n",
    "    value='Finse Research Centre',\n",
    "    description='Webcam:',\n",
    "    disabled=False)\n",
    "\n",
    "webcam=widgets.HTML(\n",
    "    value='<img src=\"https://www.finse.uio.no/news/webcam/dagens.jpg\"></img>',\n",
    "    description= 'Finse Research Centre', style={'description_width': 'initial'})\n",
    "\n",
    "\n",
    "def handle_button_change(change):\n",
    "    if change['new'] == 'Finse Research Centre':\n",
    "        webcam.value='<img src=\"https://www.finse.uio.no/news/webcam/dagens.jpg\"></img>'\n",
    "    else:\n",
    "        webcam.value='<iframe width=\"560\" height=\"315\" src=\"https://www.bt.no/tv/embed/?id=100521\" allowfullscreen=\"true\"></iframe>'\n",
    "\n",
    "button.observe(handle_button_change, names='value')\n",
    "display(button,webcam)"
   ]
  },
  {
   "cell_type": "code",
   "execution_count": 32,
   "metadata": {
    "extensions": {
     "jupyter_dashboards": {
      "version": 1,
      "views": {
       "grid_default": {
        "col": 8,
        "height": 4,
        "hidden": false,
        "row": 5,
        "width": 4
       },
       "report_default": {}
      }
     }
    }
   },
   "outputs": [
    {
     "data": {
      "text/html": [
       "<h1>Finse Data monitoring Dashboards</h1>"
      ],
      "text/plain": [
       "<IPython.core.display.HTML object>"
      ]
     },
     "execution_count": 32,
     "metadata": {},
     "output_type": "execute_result"
    }
   ],
   "source": [
    "from IPython.display import HTML\n",
    "HTML('<h1>Finse Data monitoring Dashboards</h1>')"
   ]
  },
  {
   "cell_type": "code",
   "execution_count": 33,
   "metadata": {},
   "outputs": [],
   "source": [
    "import folium"
   ]
  },
  {
   "cell_type": "code",
   "execution_count": 44,
   "metadata": {},
   "outputs": [],
   "source": [
    "map=folium.Map(location=[60.6,7.5], zoom_start=5, tiles='Stamen Toner')"
   ]
  },
  {
   "cell_type": "code",
   "execution_count": 45,
   "metadata": {},
   "outputs": [
    {
     "data": {
      "text/html": [
       "<div style=\"width:100%;\"><div style=\"position:relative;width:100%;height:0;padding-bottom:60%;\"><iframe src=\"data:text/html;charset=utf-8;base64,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\" style=\"position:absolute;width:100%;height:100%;left:0;top:0;border:none !important;\" allowfullscreen webkitallowfullscreen mozallowfullscreen></iframe></div></div>"
      ],
      "text/plain": [
       "<folium.folium.Map at 0x10b109048>"
      ]
     },
     "execution_count": 45,
     "metadata": {},
     "output_type": "execute_result"
    }
   ],
   "source": [
    "map"
   ]
  },
  {
   "cell_type": "code",
   "execution_count": 43,
   "metadata": {},
   "outputs": [],
   "source": [
    "folium.Map?"
   ]
  },
  {
   "cell_type": "code",
   "execution_count": 47,
   "metadata": {},
   "outputs": [
    {
     "name": "stdout",
     "output_type": "stream",
     "text": [
      "/var/folders/zk/w7kdspr538z71c4p7bvd36cw0000gn/T/tmpzzvnmus_\n"
     ]
    }
   ],
   "source": [
    "import urllib.request\n",
    "url='https://raw.githubusercontent.com/annefou/jupyter_dashboards/gh-pages/data/Hardangervidda.geojson'\n",
    "geojson_filename, headers = urllib.request.urlretrieve(url)\n",
    "print(geojson_filename)"
   ]
  },
  {
   "cell_type": "code",
   "execution_count": 49,
   "metadata": {},
   "outputs": [
    {
     "data": {
      "text/html": [
       "<div style=\"width:100%;\"><div style=\"position:relative;width:100%;height:0;padding-bottom:60%;\"><iframe src=\"data:text/html;charset=utf-8;base64,PCFET0NUWVBFIGh0bWw+CjxoZWFkPiAgICAKICAgIDxtZXRhIGh0dHAtZXF1aXY9ImNvbnRlbnQtdHlwZSIgY29udGVudD0idGV4dC9odG1sOyBjaGFyc2V0PVVURi04IiAvPgogICAgPHNjcmlwdD5MX1BSRUZFUl9DQU5WQVMgPSBmYWxzZTsgTF9OT19UT1VDSCA9IGZhbHNlOyBMX0RJU0FCTEVfM0QgPSBmYWxzZTs8L3NjcmlwdD4KICAgIDxzY3JpcHQgc3JjPSJodHRwczovL2Nkbi5qc2RlbGl2ci5uZXQvbnBtL2xlYWZsZXRAMS4yLjAvZGlzdC9sZWFmbGV0LmpzIj48L3NjcmlwdD4KICAgIDxzY3JpcHQgc3JjPSJodHRwczovL2FqYXguZ29vZ2xlYXBpcy5jb20vYWpheC9saWJzL2pxdWVyeS8xLjExLjEvanF1ZXJ5Lm1pbi5qcyI+PC9zY3JpcHQ+CiAgICA8c2NyaXB0IHNyYz0iaHR0cHM6Ly9tYXhjZG4uYm9vdHN0cmFwY2RuLmNvbS9ib290c3RyYXAvMy4yLjAvanMvYm9vdHN0cmFwLm1pbi5qcyI+PC9zY3JpcHQ+CiAgICA8c2NyaXB0IHNyYz0iaHR0cHM6Ly9jZG5qcy5jbG91ZGZsYXJlLmNvbS9hamF4L2xpYnMvTGVhZmxldC5hd2Vzb21lLW1hcmtlcnMvMi4wLjIvbGVhZmxldC5hd2Vzb21lLW1hcmtlcnMuanMiPjwvc2NyaXB0PgogICAgPGxpbmsgcmVsPSJzdHlsZXNoZWV0IiBocmVmPSJodHRwczovL2Nkbi5qc2RlbGl2ci5uZXQvbnBtL2xlYWZsZXRAMS4yLjAvZGlzdC9sZWFmbGV0LmNzcyIgLz4KICAgIDxsaW5rIHJlbD0ic3R5bGVzaGVldCIgaHJlZj0iaHR0cHM6Ly9tYXhjZG4uYm9vdHN0cmFwY2RuLmNvbS9ib290c3RyYXAvMy4yLjAvY3NzL2Jvb3RzdHJhcC5taW4uY3NzIiAvPgogICAgPGxpbmsgcmVsPSJzdHlsZXNoZWV0IiBocmVmPSJodHRwczovL21heGNkbi5ib290c3RyYXBjZG4uY29tL2Jvb3RzdHJhcC8zLjIuMC9jc3MvYm9vdHN0cmFwLXRoZW1lLm1pbi5jc3MiIC8+CiAgICA8bGluayByZWw9InN0eWxlc2hlZXQiIGhyZWY9Imh0dHBzOi8vbWF4Y2RuLmJvb3RzdHJhcGNkbi5jb20vZm9udC1hd2Vzb21lLzQuNi4zL2Nzcy9mb250LWF3ZXNvbWUubWluLmNzcyIgLz4KICAgIDxsaW5rIHJlbD0ic3R5bGVzaGVldCIgaHJlZj0iaHR0cHM6Ly9jZG5qcy5jbG91ZGZsYXJlLmNvbS9hamF4L2xpYnMvTGVhZmxldC5hd2Vzb21lLW1hcmtlcnMvMi4wLjIvbGVhZmxldC5hd2Vzb21lLW1hcmtlcnMuY3NzIiAvPgogICAgPGxpbmsgcmVsPSJzdHlsZXNoZWV0IiBocmVmPSJodHRwczovL3Jhd2dpdC5jb20vcHl0aG9uLXZpc3VhbGl6YXRpb24vZm9saXVtL21hc3Rlci9mb2xpdW0vdGVtcGxhdGVzL2xlYWZsZXQuYXdlc29tZS5yb3RhdGUuY3NzIiAvPgogICAgPHN0eWxlPmh0bWwsIGJvZHkge3dpZHRoOiAxMDAlO2hlaWdodDogMTAwJTttYXJnaW46IDA7cGFkZGluZzogMDt9PC9zdHlsZT4KICAgIDxzdHlsZT4jbWFwIHtwb3NpdGlvbjphYnNvbHV0ZTt0b3A6MDtib3R0b206MDtyaWdodDowO2xlZnQ6MDt9PC9zdHlsZT4KICAgIAogICAgICAgICAgICA8c3R5bGU+ICNtYXBfZWVjNGMyOTViNmM4NDI1NjgzYWUxNzIwNTZiYTI4YjMgewogICAgICAgICAgICAgICAgcG9zaXRpb24gOiByZWxhdGl2ZTsKICAgICAgICAgICAgICAgIHdpZHRoIDogMTAwLjAlOwogICAgICAgICAgICAgICAgaGVpZ2h0OiAxMDAuMCU7CiAgICAgICAgICAgICAgICBsZWZ0OiAwLjAlOwogICAgICAgICAgICAgICAgdG9wOiAwLjAlOwogICAgICAgICAgICAgICAgfQogICAgICAgICAgICA8L3N0eWxlPgogICAgICAgIAo8L2hlYWQ+Cjxib2R5PiAgICAKICAgIAogICAgICAgICAgICA8ZGl2IGNsYXNzPSJmb2xpdW0tbWFwIiBpZD0ibWFwX2VlYzRjMjk1YjZjODQyNTY4M2FlMTcyMDU2YmEyOGIzIiA+PC9kaXY+CiAgICAgICAgCjwvYm9keT4KPHNjcmlwdD4gICAgCiAgICAKCiAgICAgICAgICAgIAogICAgICAgICAgICAgICAgdmFyIGJvdW5kcyA9IG51bGw7CiAgICAgICAgICAgIAoKICAgICAgICAgICAgdmFyIG1hcF9lZWM0YzI5NWI2Yzg0MjU2ODNhZTE3MjA1NmJhMjhiMyA9IEwubWFwKAogICAgICAgICAgICAgICAgICAgICAgICAgICAgICAgICAgJ21hcF9lZWM0YzI5NWI2Yzg0MjU2ODNhZTE3MjA1NmJhMjhiMycsCiAgICAgICAgICAgICAgICAgICAgICAgICAgICAgICAgICB7Y2VudGVyOiBbNjAuNiw3LjVdLAogICAgICAgICAgICAgICAgICAgICAgICAgICAgICAgICAgem9vbTogNSwKICAgICAgICAgICAgICAgICAgICAgICAgICAgICAgICAgIG1heEJvdW5kczogYm91bmRzLAogICAgICAgICAgICAgICAgICAgICAgICAgICAgICAgICAgbGF5ZXJzOiBbXSwKICAgICAgICAgICAgICAgICAgICAgICAgICAgICAgICAgIHdvcmxkQ29weUp1bXA6IGZhbHNlLAogICAgICAgICAgICAgICAgICAgICAgICAgICAgICAgICAgY3JzOiBMLkNSUy5FUFNHMzg1NwogICAgICAgICAgICAgICAgICAgICAgICAgICAgICAgICB9KTsKICAgICAgICAgICAgCiAgICAgICAgCiAgICAKICAgICAgICAgICAgdmFyIHRpbGVfbGF5ZXJfMmY1MmE5MDYyODVmNGQwMTgwYzllYjNjMDQ4MzJjMjQgPSBMLnRpbGVMYXllcigKICAgICAgICAgICAgICAgICdodHRwczovL3N0YW1lbi10aWxlcy17c30uYS5zc2wuZmFzdGx5Lm5ldC90b25lci97en0ve3h9L3t5fS5wbmcnLAogICAgICAgICAgICAgICAgewogICJhdHRyaWJ1dGlvbiI6IG51bGwsCiAgImRldGVjdFJldGluYSI6IGZhbHNlLAogICJtYXhab29tIjogMTgsCiAgIm1pblpvb20iOiAxLAogICJub1dyYXAiOiBmYWxzZSwKICAic3ViZG9tYWlucyI6ICJhYmMiCn0KICAgICAgICAgICAgICAgICkuYWRkVG8obWFwX2VlYzRjMjk1YjZjODQyNTY4M2FlMTcyMDU2YmEyOGIzKTsKICAgICAgICAKICAgIAoKICAgICAgICAgICAgCgogICAgICAgICAgICAgICAgdmFyIGdlb19qc29uX2ExOGU2OWMyNjI2YTQyZmZiNzRkYjU5OWM0MWFkNDBhID0gTC5nZW9Kc29uKAogICAgICAgICAgICAgICAgICAgIHsiZmVhdHVyZXMiOiBbeyJnZW9tZXRyeSI6IHsiY29vcmRpbmF0ZXMiOiBbNy40ODUxNDEsIDYwLjU3MTE0Nl0sICJ0eXBlIjogIlBvaW50In0sICJwcm9wZXJ0aWVzIjogeyJjb3VudHJ5LmV0YyI6ICJOTyIsICJkZXNjcmlwdGlvbiI6ICJBcHBlbHNpbmh5dHRhIiwgImhpZ2hsaWdodCI6IHt9LCAibmFtZSI6ICJTZW5zb3ItMSIsICJzdHlsZSI6IHt9LCAid2FzcG1vdGVfaWQiOiAiMDIzRDY3MDU3QzEwNTQ3NCJ9LCAidHlwZSI6ICJGZWF0dXJlIn0sIHsiZ2VvbWV0cnkiOiB7ImNvb3JkaW5hdGVzIjogWzcuNDkwMzgzLCA2MC41ODE1MDFdLCAidHlwZSI6ICJQb2ludCJ9LCAicHJvcGVydGllcyI6IHsiY291bnRyeS5ldGMiOiAiTk8iLCAiZGVzY3JpcHRpb24iOiAiSGlsbHMiLCAiaGlnaGxpZ2h0Ijoge30sICJuYW1lIjogIlNlbnNvci0yIiwgInN0eWxlIjoge30sICJ3YXNwbW90ZV9pZCI6ICIxRjU2NkYwNTdDMTA1NDg3In0sICJ0eXBlIjogIkZlYXR1cmUifSwgeyJnZW9tZXRyeSI6IHsiY29vcmRpbmF0ZXMiOiBbNy41MDI3NzgsIDYwLjU3Njg1Ml0sICJ0eXBlIjogIlBvaW50In0sICJwcm9wZXJ0aWVzIjogeyJjb3VudHJ5LmV0YyI6ICJOTyIsICJkZXNjcmlwdGlvbiI6ICJNaWRkYXNlbHZpIGRpc2NoYXJnZSIsICJoaWdobGlnaHQiOiB7fSwgIm5hbWUiOiAiU2Vuc29yLTMiLCAic3R5bGUiOiB7fSwgIndhc3Btb3RlX2lkIjogIjNGN0M2NzA1N0MxMDU0MTkifSwgInR5cGUiOiAiRmVhdHVyZSJ9LCB7Imdlb21ldHJ5IjogeyJjb29yZGluYXRlcyI6IFs3LjUwMzk1NywgNjAuNjE2Njk0XSwgInR5cGUiOiAiUG9pbnQifSwgInByb3BlcnRpZXMiOiB7ImNvdW50cnkuZXRjIjogIk5PIiwgImRlc2NyaXB0aW9uIjogIkZpbnNlbHZpIGRpc2NoYXJnZSIsICJoaWdobGlnaHQiOiB7fSwgIm5hbWUiOiAiU2Vuc29yLTQiLCAic3R5bGUiOiB7fSwgIndhc3Btb3RlX2lkIjogIjQwNTE2RjA1N0MxMDU0MzcifSwgInR5cGUiOiAiRmVhdHVyZSJ9LCB7Imdlb21ldHJ5IjogeyJjb29yZGluYXRlcyI6IFs3LjQ5MDM4MywgNjAuNTgxNTAxXSwgInR5cGUiOiAiUG9pbnQifSwgInByb3BlcnRpZXMiOiB7ImNvdW50cnkuZXRjIjogIk5PIiwgImRlc2NyaXB0aW9uIjogIkhpbGxzIiwgImhpZ2hsaWdodCI6IHt9LCAibmFtZSI6ICJTZW5zb3ItNSIsICJzdHlsZSI6IHt9LCAid2FzcG1vdGVfaWQiOiAiNjY3NzY3MDU3QzEwNTQ4RSJ9LCAidHlwZSI6ICJGZWF0dXJlIn0sIHsiZ2VvbWV0cnkiOiB7ImNvb3JkaW5hdGVzIjogWzcuNTI4NDgyLCA2MC41OTM1MTRdLCAidHlwZSI6ICJQb2ludCJ9LCAicHJvcGVydGllcyI6IHsiY291bnRyeS5ldGMiOiAiTk8iLCAiZGVzY3JpcHRpb24iOiAiRHJpZnQgbG93ZXIgbGlkYXIiLCAiaGlnaGxpZ2h0Ijoge30sICJuYW1lIjogIlNlbnNvci02IiwgInN0eWxlIjoge30sICJ3YXNwbW90ZV9pZCI6ICI2RDQ0NjcwNTdDMTA1NERDIn0sICJ0eXBlIjogIkZlYXR1cmUifV0sICJ0eXBlIjogIkZlYXR1cmVDb2xsZWN0aW9uIn0KICAgICAgICAgICAgICAgICAgICAKICAgICAgICAgICAgICAgICAgICApLmFkZFRvKG1hcF9lZWM0YzI5NWI2Yzg0MjU2ODNhZTE3MjA1NmJhMjhiMyk7CiAgICAgICAgICAgICAgICBnZW9fanNvbl9hMThlNjljMjYyNmE0MmZmYjc0ZGI1OTljNDFhZDQwYS5zZXRTdHlsZShmdW5jdGlvbihmZWF0dXJlKSB7cmV0dXJuIGZlYXR1cmUucHJvcGVydGllcy5zdHlsZTt9KTsKCiAgICAgICAgICAgIAo8L3NjcmlwdD4=\" style=\"position:absolute;width:100%;height:100%;left:0;top:0;border:none !important;\" allowfullscreen webkitallowfullscreen mozallowfullscreen></iframe></div></div>"
      ],
      "text/plain": [
       "<folium.folium.Map at 0x10b109048>"
      ]
     },
     "execution_count": 49,
     "metadata": {},
     "output_type": "execute_result"
    }
   ],
   "source": [
    "geojson = folium.GeoJson(\n",
    "    geojson_filename, name='geojson').add_to(map)\n",
    "map"
   ]
  },
  {
   "cell_type": "code",
   "execution_count": 50,
   "metadata": {},
   "outputs": [
    {
     "data": {
      "application/vnd.jupyter.widget-view+json": {
       "model_id": "1112713b2f8148b8b29bd94a6bf41aa7",
       "version_major": 2,
       "version_minor": 0
      }
     },
     "metadata": {},
     "output_type": "display_data"
    }
   ],
   "source": [
    "from pandas.io.json import json_normalize\n",
    "from beakerx import *\n",
    "\n",
    "features = geojson.data['features']\n",
    "json_normalize(features)"
   ]
  },
  {
   "cell_type": "code",
   "execution_count": 53,
   "metadata": {},
   "outputs": [
    {
     "data": {
      "text/html": [
       "<div style=\"width:100%;\"><div style=\"position:relative;width:100%;height:0;padding-bottom:60%;\"><iframe src=\"data:text/html;charset=utf-8;base64,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\" style=\"position:absolute;width:100%;height:100%;left:0;top:0;border:none !important;\" allowfullscreen webkitallowfullscreen mozallowfullscreen></iframe></div></div>"
      ],
      "text/plain": [
       "<folium.folium.Map at 0x10b109048>"
      ]
     },
     "execution_count": 53,
     "metadata": {},
     "output_type": "execute_result"
    }
   ],
   "source": [
    "features = geojson.data['features']\n",
    "for i in range(0,len(features)):\n",
    "    location = [features[i]['geometry']['coordinates'][1],features[i]['geometry']['coordinates'][0]]\n",
    "    name = features[i]['properties']['name']\n",
    "    opr = features[i]['properties']['waspmote_id']\n",
    "    description = features[i]['properties']['description']\n",
    "    country = features[i]['properties']['country.etc']\n",
    "    html = str(location)\n",
    "    iframe = folium.IFrame(html=html, width=300, height=150)\n",
    "    popup = folium.Popup(iframe, max_width=2650)\n",
    "    folium.Marker(location,popup=popup, icon=folium.Icon(color='green',icon='ok-sign')).add_to(map)\n",
    "    \n",
    "map"
   ]
  },
  {
   "cell_type": "code",
   "execution_count": null,
   "metadata": {},
   "outputs": [],
   "source": []
  }
 ],
 "metadata": {
  "extensions": {
   "jupyter_dashboards": {
    "activeView": "grid_default",
    "version": 1,
    "views": {
     "grid_default": {
      "cellMargin": 10,
      "defaultCellHeight": 20,
      "maxColumns": 12,
      "name": "grid",
      "type": "grid"
     },
     "report_default": {
      "name": "report",
      "type": "report"
     }
    }
   }
  },
  "kernelspec": {
   "display_name": "Python 3",
   "language": "python",
   "name": "python3"
  },
  "language_info": {
   "codemirror_mode": {
    "name": "ipython",
    "version": 3
   },
   "file_extension": ".py",
   "mimetype": "text/x-python",
   "name": "python",
   "nbconvert_exporter": "python",
   "pygments_lexer": "ipython3",
   "version": "3.6.4"
  },
  "widgets": {
   "application/vnd.jupyter.widget-state+json": {
    "state": {
     "003cdcdb650e484cadb94a304a3e766f": {
      "model_module": "@jupyter-widgets/controls",
      "model_module_version": "1.1.0",
      "model_name": "DescriptionStyleModel",
      "state": {
       "description_width": "initial"
      }
     },
     "05527391e41f4f04b6eb22789d293bc1": {
      "model_module": "@jupyter-widgets/controls",
      "model_module_version": "1.1.0",
      "model_name": "RadioButtonsModel",
      "state": {
       "_options_labels": [
        "Finse Railway Station",
        "Finse Research Centre"
       ],
       "description": "Webcam:",
       "index": 1,
       "layout": "IPY_MODEL_2ff1eb3e68ca4cdb988cd89d4bce1b43",
       "style": "IPY_MODEL_4ddcadd1b7294383aa831607c8078f42"
      }
     },
     "0d895684fb1743b891955eae0d45fe75": {
      "model_module": "@jupyter-widgets/base",
      "model_module_version": "1.0.0",
      "model_name": "LayoutModel",
      "state": {}
     },
     "1112713b2f8148b8b29bd94a6bf41aa7": {
      "model_module": "beakerx",
      "model_module_version": "*",
      "model_name": "TableDisplayModel",
      "state": {
       "layout": "IPY_MODEL_92b3a16bcf7a440782df7230faa72451",
       "model": {
        "alignmentForColumn": {},
        "alignmentForType": {},
        "cellHighlighters": [],
        "columnNames": [
         "geometry.coordinates",
         "geometry.type",
         "properties.country.etc",
         "properties.description",
         "properties.name",
         "properties.waspmote_id",
         "type"
        ],
        "columnOrder": [],
        "columnsFrozen": {},
        "columnsFrozenRight": {},
        "columnsVisible": {},
        "contextMenuItems": [],
        "contextMenuTags": {},
        "fontColor": [],
        "hasDoubleClickAction": false,
        "headersVertical": false,
        "rendererForColumn": {},
        "rendererForType": {},
        "stringFormatForColumn": {},
        "stringFormatForType": {},
        "subtype": "ListOfMaps",
        "tooManyRows": false,
        "tooltips": [],
        "type": "TableDisplay",
        "types": [
         "string",
         "string",
         "string",
         "string",
         "string",
         "string",
         "string"
        ],
        "values": [
         [
          "[7.485141, 60.571146]",
          "Point",
          "NO",
          "Appelsinhytta",
          "Sensor-1",
          "023D67057C105474",
          "Feature"
         ],
         [
          "[7.490383, 60.581501]",
          "Point",
          "NO",
          "Hills",
          "Sensor-2",
          "1F566F057C105487",
          "Feature"
         ],
         [
          "[7.502778, 60.576852]",
          "Point",
          "NO",
          "Middaselvi discharge",
          "Sensor-3",
          "3F7C67057C105419",
          "Feature"
         ],
         [
          "[7.503957, 60.616694]",
          "Point",
          "NO",
          "Finselvi discharge",
          "Sensor-4",
          "40516F057C105437",
          "Feature"
         ],
         [
          "[7.490383, 60.581501]",
          "Point",
          "NO",
          "Hills",
          "Sensor-5",
          "667767057C10548E",
          "Feature"
         ],
         [
          "[7.528482, 60.593514]",
          "Point",
          "NO",
          "Drift lower lidar",
          "Sensor-6",
          "6D4467057C1054DC",
          "Feature"
         ]
        ]
       }
      }
     },
     "11331579c62e4c9b8f109bf7061627c9": {
      "model_module": "@jupyter-widgets/controls",
      "model_module_version": "1.1.0",
      "model_name": "DescriptionStyleModel",
      "state": {
       "description_width": "initial"
      }
     },
     "124c8b5dca614f54bdce5c1119167c35": {
      "model_module": "@jupyter-widgets/controls",
      "model_module_version": "1.1.0",
      "model_name": "RadioButtonsModel",
      "state": {
       "_options_labels": [
        "Finse Railway Station",
        "Finse Research Centre"
       ],
       "description": "Webcam:",
       "index": 0,
       "layout": "IPY_MODEL_b7ffa2c736be4e86ad3675f326a1f065",
       "style": "IPY_MODEL_b8eafeabd7594d7ca32f9a620fb71102"
      }
     },
     "13264b85c1ac4ddea1eab94a33622422": {
      "model_module": "@jupyter-widgets/base",
      "model_module_version": "1.0.0",
      "model_name": "LayoutModel",
      "state": {}
     },
     "157bb706759c4d939b71fb9ff9185511": {
      "model_module": "@jupyter-widgets/controls",
      "model_module_version": "1.1.0",
      "model_name": "DescriptionStyleModel",
      "state": {
       "description_width": ""
      }
     },
     "183f48a7ddae4add827e61aca0dd1e6e": {
      "model_module": "@jupyter-widgets/controls",
      "model_module_version": "1.1.0",
      "model_name": "DescriptionStyleModel",
      "state": {
       "description_width": ""
      }
     },
     "209bbb0d41834593a0836b8b2bc1bb17": {
      "model_module": "@jupyter-widgets/controls",
      "model_module_version": "1.1.0",
      "model_name": "RadioButtonsModel",
      "state": {
       "_options_labels": [
        "Finse Railway Station",
        "Finse Research Centre"
       ],
       "description": "Webcam:",
       "index": 1,
       "layout": "IPY_MODEL_0d895684fb1743b891955eae0d45fe75",
       "style": "IPY_MODEL_687fd4b0911b4edfab53d3ddd2f73676"
      }
     },
     "24b20c9b8c8d4c58b1f2fd3afd527d22": {
      "model_module": "@jupyter-widgets/controls",
      "model_module_version": "1.1.0",
      "model_name": "DescriptionStyleModel",
      "state": {
       "description_width": ""
      }
     },
     "25b7175f4d1b4ab3982faba2fdb90521": {
      "model_module": "@jupyter-widgets/base",
      "model_module_version": "1.0.0",
      "model_name": "LayoutModel",
      "state": {}
     },
     "2d7c79c9e4d74ca98eddb8bb7897aa7c": {
      "model_module": "@jupyter-widgets/base",
      "model_module_version": "1.0.0",
      "model_name": "LayoutModel",
      "state": {}
     },
     "2ff1eb3e68ca4cdb988cd89d4bce1b43": {
      "model_module": "@jupyter-widgets/base",
      "model_module_version": "1.0.0",
      "model_name": "LayoutModel",
      "state": {}
     },
     "3103e57f83c042fb8552e19202c1b232": {
      "model_module": "@jupyter-widgets/base",
      "model_module_version": "1.0.0",
      "model_name": "LayoutModel",
      "state": {}
     },
     "352fc2ebce4441159feca37dda0e3640": {
      "model_module": "@jupyter-widgets/controls",
      "model_module_version": "1.1.0",
      "model_name": "RadioButtonsModel",
      "state": {
       "_options_labels": [
        "Finse Railway Station",
        "Finse Research Centre"
       ],
       "description": "Webcam:",
       "index": 0,
       "layout": "IPY_MODEL_ab4b478ef60942c0bc380cdfc2ab7af4",
       "style": "IPY_MODEL_b4d005bb0ffb4a69bdcd2c9546609912"
      }
     },
     "383ecce782e34caab7695da34305e781": {
      "model_module": "@jupyter-widgets/controls",
      "model_module_version": "1.1.0",
      "model_name": "DescriptionStyleModel",
      "state": {
       "description_width": ""
      }
     },
     "3a9d145800814560be60857d1dd9445d": {
      "model_module": "@jupyter-widgets/controls",
      "model_module_version": "1.1.0",
      "model_name": "DescriptionStyleModel",
      "state": {
       "description_width": "initial"
      }
     },
     "3cd44b2943ae4c7eaba89b75c0886655": {
      "model_module": "@jupyter-widgets/controls",
      "model_module_version": "1.1.0",
      "model_name": "DescriptionStyleModel",
      "state": {
       "description_width": "initial"
      }
     },
     "457dd531379b47a38163e31fa7ee18e0": {
      "model_module": "@jupyter-widgets/controls",
      "model_module_version": "1.1.0",
      "model_name": "RadioButtonsModel",
      "state": {
       "_options_labels": [
        "Finse Railway Station",
        "Finse Research Centre"
       ],
       "description": "Webcam:",
       "index": 1,
       "layout": "IPY_MODEL_710b9bb0e9334cb0a3b0c7e34953197f",
       "style": "IPY_MODEL_24b20c9b8c8d4c58b1f2fd3afd527d22"
      }
     },
     "4cc8f07e27604aaa8c54257d93e86af5": {
      "model_module": "@jupyter-widgets/controls",
      "model_module_version": "1.1.0",
      "model_name": "DescriptionStyleModel",
      "state": {
       "description_width": "initial"
      }
     },
     "4ddcadd1b7294383aa831607c8078f42": {
      "model_module": "@jupyter-widgets/controls",
      "model_module_version": "1.1.0",
      "model_name": "DescriptionStyleModel",
      "state": {
       "description_width": ""
      }
     },
     "59f94cb638394bd1bb3f23c046d41e85": {
      "model_module": "@jupyter-widgets/controls",
      "model_module_version": "1.1.0",
      "model_name": "DescriptionStyleModel",
      "state": {
       "description_width": ""
      }
     },
     "6389cf250b3d466cbbcb68c6dae9f481": {
      "model_module": "@jupyter-widgets/base",
      "model_module_version": "1.0.0",
      "model_name": "LayoutModel",
      "state": {}
     },
     "64944b5caf2045bea08d670756d24ddc": {
      "model_module": "@jupyter-widgets/base",
      "model_module_version": "1.0.0",
      "model_name": "LayoutModel",
      "state": {}
     },
     "659fd4b0ab4940e88d44aa3860078432": {
      "model_module": "@jupyter-widgets/base",
      "model_module_version": "1.0.0",
      "model_name": "LayoutModel",
      "state": {}
     },
     "687fd4b0911b4edfab53d3ddd2f73676": {
      "model_module": "@jupyter-widgets/controls",
      "model_module_version": "1.1.0",
      "model_name": "DescriptionStyleModel",
      "state": {
       "description_width": ""
      }
     },
     "6d326b82b66a43c2b28a2172f8d39cb8": {
      "model_module": "@jupyter-widgets/controls",
      "model_module_version": "1.1.0",
      "model_name": "RadioButtonsModel",
      "state": {
       "_options_labels": [
        "Finse Railway Station",
        "Finse Research Centre"
       ],
       "description": "Webcam:",
       "index": 1,
       "layout": "IPY_MODEL_25b7175f4d1b4ab3982faba2fdb90521",
       "style": "IPY_MODEL_383ecce782e34caab7695da34305e781"
      }
     },
     "710b9bb0e9334cb0a3b0c7e34953197f": {
      "model_module": "@jupyter-widgets/base",
      "model_module_version": "1.0.0",
      "model_name": "LayoutModel",
      "state": {}
     },
     "71ee36b6684445c2bbaf4f8faaae9bfd": {
      "model_module": "@jupyter-widgets/base",
      "model_module_version": "1.0.0",
      "model_name": "LayoutModel",
      "state": {}
     },
     "7bfb3e27d49e4456a4d8882d985e62c3": {
      "model_module": "@jupyter-widgets/base",
      "model_module_version": "1.0.0",
      "model_name": "LayoutModel",
      "state": {}
     },
     "7c4b66fe2ef84a7d8865e9ed10bbb615": {
      "model_module": "@jupyter-widgets/controls",
      "model_module_version": "1.1.0",
      "model_name": "DescriptionStyleModel",
      "state": {
       "description_width": "initial"
      }
     },
     "8dd2f691e7984b6580c19f0086089d15": {
      "model_module": "@jupyter-widgets/controls",
      "model_module_version": "1.1.0",
      "model_name": "DescriptionStyleModel",
      "state": {
       "description_width": "initial"
      }
     },
     "8e08a90e4ed343149c4173969c1ce6cc": {
      "model_module": "@jupyter-widgets/controls",
      "model_module_version": "1.1.0",
      "model_name": "HTMLModel",
      "state": {
       "description": "Finse Research Centre",
       "layout": "IPY_MODEL_e0e1211d4c1b4e6cb312bcfbaad245be",
       "style": "IPY_MODEL_a8a5b3d0ed0945a6b769d8a04b96dcb9",
       "value": "<img src=\"https://www.finse.uio.no/news/webcam/dagens.jpg\"></img>"
      }
     },
     "92b3a16bcf7a440782df7230faa72451": {
      "model_module": "@jupyter-widgets/base",
      "model_module_version": "*",
      "model_name": "LayoutModel",
      "state": {
       "_model_module_version": "*",
       "_view_module_version": "*"
      }
     },
     "952c725946324d0baa33e1f1da8d82b5": {
      "model_module": "@jupyter-widgets/base",
      "model_module_version": "1.0.0",
      "model_name": "LayoutModel",
      "state": {}
     },
     "9789ec58ff254d3d9ff9c5bffc24cf94": {
      "model_module": "@jupyter-widgets/controls",
      "model_module_version": "1.1.0",
      "model_name": "HTMLModel",
      "state": {
       "description": "Finse Research Centre",
       "layout": "IPY_MODEL_b6f69583ad504573a3ade578b8dfa5f9",
       "style": "IPY_MODEL_3a9d145800814560be60857d1dd9445d",
       "value": "<img src=\"https://www.finse.uio.no/news/webcam/finsebilder/2018-01-26_12-00.jpg\"></img>"
      }
     },
     "9f0e31b9e627497584293dc0385e9b09": {
      "model_module": "@jupyter-widgets/controls",
      "model_module_version": "1.1.0",
      "model_name": "RadioButtonsModel",
      "state": {
       "_options_labels": [
        "Finse Railway Station",
        "Finse Research Centre"
       ],
       "description": "Webcam:",
       "index": 0,
       "layout": "IPY_MODEL_2d7c79c9e4d74ca98eddb8bb7897aa7c",
       "style": "IPY_MODEL_ba31e3ae55df4756a1fab5035af248e0"
      }
     },
     "a2f2be7f66424f85a01cc2941cf3d577": {
      "model_module": "@jupyter-widgets/controls",
      "model_module_version": "1.1.0",
      "model_name": "DescriptionStyleModel",
      "state": {
       "description_width": ""
      }
     },
     "a606d98bac9a4ee684b0682cb191770b": {
      "model_module": "@jupyter-widgets/base",
      "model_module_version": "1.0.0",
      "model_name": "LayoutModel",
      "state": {}
     },
     "a6275c2ea9de4a378296125ef1ce25f4": {
      "model_module": "@jupyter-widgets/controls",
      "model_module_version": "1.1.0",
      "model_name": "DescriptionStyleModel",
      "state": {
       "description_width": "initial"
      }
     },
     "a872ac9e7f604503b059418484a25e77": {
      "model_module": "@jupyter-widgets/base",
      "model_module_version": "1.0.0",
      "model_name": "LayoutModel",
      "state": {}
     },
     "a8a5b3d0ed0945a6b769d8a04b96dcb9": {
      "model_module": "@jupyter-widgets/controls",
      "model_module_version": "1.1.0",
      "model_name": "DescriptionStyleModel",
      "state": {
       "description_width": "initial"
      }
     },
     "a9512d7f82ae4945934a9d0f1fb66cb5": {
      "model_module": "@jupyter-widgets/controls",
      "model_module_version": "1.1.0",
      "model_name": "SelectModel",
      "state": {
       "_options_labels": [
        "Finse Railway Station",
        "Finse Research Centre"
       ],
       "description": "webcam:",
       "index": 1,
       "layout": "IPY_MODEL_6389cf250b3d466cbbcb68c6dae9f481",
       "rows": 2,
       "style": "IPY_MODEL_157bb706759c4d939b71fb9ff9185511"
      }
     },
     "ab4b478ef60942c0bc380cdfc2ab7af4": {
      "model_module": "@jupyter-widgets/base",
      "model_module_version": "1.0.0",
      "model_name": "LayoutModel",
      "state": {}
     },
     "b237276d1b004c27a22f9e870319e2cb": {
      "model_module": "@jupyter-widgets/controls",
      "model_module_version": "1.1.0",
      "model_name": "HTMLModel",
      "state": {
       "description": "Finse Research Centre",
       "layout": "IPY_MODEL_bff1a3331c4042fe8b3fdb591979e088",
       "style": "IPY_MODEL_ba1a67556ed3456fa4cb7dc50158571f",
       "value": "<iframe src=\"https://www.finse.uio.no/news/webcam/finsebilder/2018-01-26_12-00.jpg\"></iframe>"
      }
     },
     "b4d005bb0ffb4a69bdcd2c9546609912": {
      "model_module": "@jupyter-widgets/controls",
      "model_module_version": "1.1.0",
      "model_name": "DescriptionStyleModel",
      "state": {
       "description_width": ""
      }
     },
     "b6f69583ad504573a3ade578b8dfa5f9": {
      "model_module": "@jupyter-widgets/base",
      "model_module_version": "1.0.0",
      "model_name": "LayoutModel",
      "state": {}
     },
     "b7ffa2c736be4e86ad3675f326a1f065": {
      "model_module": "@jupyter-widgets/base",
      "model_module_version": "1.0.0",
      "model_name": "LayoutModel",
      "state": {}
     },
     "b8eafeabd7594d7ca32f9a620fb71102": {
      "model_module": "@jupyter-widgets/controls",
      "model_module_version": "1.1.0",
      "model_name": "DescriptionStyleModel",
      "state": {
       "description_width": ""
      }
     },
     "ba1a67556ed3456fa4cb7dc50158571f": {
      "model_module": "@jupyter-widgets/controls",
      "model_module_version": "1.1.0",
      "model_name": "DescriptionStyleModel",
      "state": {
       "description_width": "initial"
      }
     },
     "ba31e3ae55df4756a1fab5035af248e0": {
      "model_module": "@jupyter-widgets/controls",
      "model_module_version": "1.1.0",
      "model_name": "DescriptionStyleModel",
      "state": {
       "description_width": ""
      }
     },
     "bb706f720e10444dac8a1d8bf5fba745": {
      "model_module": "@jupyter-widgets/controls",
      "model_module_version": "1.1.0",
      "model_name": "SelectModel",
      "state": {
       "_options_labels": [
        "Finse Railway Station",
        "Finse Research Centre"
       ],
       "description": "webcam:",
       "index": 1,
       "layout": "IPY_MODEL_eaf75fbcef2e4903b5097ad71bba7d03",
       "rows": 2,
       "style": "IPY_MODEL_a2f2be7f66424f85a01cc2941cf3d577"
      }
     },
     "bff1a3331c4042fe8b3fdb591979e088": {
      "model_module": "@jupyter-widgets/base",
      "model_module_version": "1.0.0",
      "model_name": "LayoutModel",
      "state": {}
     },
     "c1d6fcb9a0b44e31b6e412b42c3e036e": {
      "model_module": "@jupyter-widgets/controls",
      "model_module_version": "1.1.0",
      "model_name": "HTMLModel",
      "state": {
       "description": "Finse Research Centre",
       "layout": "IPY_MODEL_7bfb3e27d49e4456a4d8882d985e62c3",
       "style": "IPY_MODEL_3cd44b2943ae4c7eaba89b75c0886655",
       "value": "<iframe src=\"https://www.finse.uio.no/news/webcam/dagens.jpg\"></iframe>"
      }
     },
     "d0b7163217da44699e922ec6072410ce": {
      "model_module": "@jupyter-widgets/controls",
      "model_module_version": "1.1.0",
      "model_name": "RadioButtonsModel",
      "state": {
       "_options_labels": [
        "Finse Railway Station",
        "Finse Research Centre"
       ],
       "description": "Webcam:",
       "index": 1,
       "layout": "IPY_MODEL_71ee36b6684445c2bbaf4f8faaae9bfd",
       "style": "IPY_MODEL_183f48a7ddae4add827e61aca0dd1e6e"
      }
     },
     "d105824ddd7347b5b3e1fca24cfe836c": {
      "model_module": "@jupyter-widgets/controls",
      "model_module_version": "1.1.0",
      "model_name": "HTMLModel",
      "state": {
       "description": "Finse Research Centre",
       "layout": "IPY_MODEL_a872ac9e7f604503b059418484a25e77",
       "style": "IPY_MODEL_7c4b66fe2ef84a7d8865e9ed10bbb615",
       "value": "<iframe width=\"560\" height=\"315\" src=\"https://www.bt.no/tv/embed/?id=100521\" allowfullscreen=\"true\"></iframe>"
      }
     },
     "d567b593569e4b6eb59fe019d5c5b7dc": {
      "model_module": "@jupyter-widgets/controls",
      "model_module_version": "1.1.0",
      "model_name": "RadioButtonsModel",
      "state": {
       "_options_labels": [
        "Finse Railway Station",
        "Finse Research Centre"
       ],
       "description": "Webcam:",
       "index": 1,
       "layout": "IPY_MODEL_64944b5caf2045bea08d670756d24ddc",
       "style": "IPY_MODEL_59f94cb638394bd1bb3f23c046d41e85"
      }
     },
     "d9f5d620e5724577a4b869a5751d5d35": {
      "model_module": "@jupyter-widgets/controls",
      "model_module_version": "1.1.0",
      "model_name": "HTMLModel",
      "state": {
       "description": "Finse Research Centre",
       "layout": "IPY_MODEL_3103e57f83c042fb8552e19202c1b232",
       "style": "IPY_MODEL_8dd2f691e7984b6580c19f0086089d15",
       "value": "<img src=\"https://www.finse.uio.no/news/webcam/dagens.jpg\"></img>"
      }
     },
     "def807b509f84843b4de321ebd0d3c81": {
      "model_module": "@jupyter-widgets/controls",
      "model_module_version": "1.1.0",
      "model_name": "HTMLModel",
      "state": {
       "description": "Finse Research Centre",
       "layout": "IPY_MODEL_13264b85c1ac4ddea1eab94a33622422",
       "style": "IPY_MODEL_11331579c62e4c9b8f109bf7061627c9",
       "value": "<img src=\"https://www.finse.uio.no/news/webcam/dagens.jpg\"></img>"
      }
     },
     "e0e1211d4c1b4e6cb312bcfbaad245be": {
      "model_module": "@jupyter-widgets/base",
      "model_module_version": "1.0.0",
      "model_name": "LayoutModel",
      "state": {}
     },
     "e0e6f3f079aa4e888e2e591fdd55b70d": {
      "model_module": "@jupyter-widgets/controls",
      "model_module_version": "1.1.0",
      "model_name": "HTMLModel",
      "state": {
       "description": "Finse Research Centre",
       "layout": "IPY_MODEL_952c725946324d0baa33e1f1da8d82b5",
       "style": "IPY_MODEL_4cc8f07e27604aaa8c54257d93e86af5",
       "value": "<iframe width=\"560\" height=\"315\" src=\"https://www.bt.no/tv/embed/?id=100521\" allowfullscreen=\"true\"></iframe>"
      }
     },
     "e2d41b3f173a4a639a1fbf0a47283844": {
      "model_module": "@jupyter-widgets/controls",
      "model_module_version": "1.1.0",
      "model_name": "HTMLModel",
      "state": {
       "description": "Finse Research Centre",
       "layout": "IPY_MODEL_a606d98bac9a4ee684b0682cb191770b",
       "style": "IPY_MODEL_a6275c2ea9de4a378296125ef1ce25f4",
       "value": "<img src=\"https://www.finse.uio.no/news/webcam/dagens.jpg\"></img>"
      }
     },
     "eaf75fbcef2e4903b5097ad71bba7d03": {
      "model_module": "@jupyter-widgets/base",
      "model_module_version": "1.0.0",
      "model_name": "LayoutModel",
      "state": {}
     },
     "f7da3b6448ec40548f94e155dd7c795d": {
      "model_module": "@jupyter-widgets/controls",
      "model_module_version": "1.1.0",
      "model_name": "HTMLModel",
      "state": {
       "description": "Finse Research Centre",
       "layout": "IPY_MODEL_659fd4b0ab4940e88d44aa3860078432",
       "style": "IPY_MODEL_003cdcdb650e484cadb94a304a3e766f",
       "value": "<img src=\"https://www.finse.uio.no/news/webcam/finsebilder/2018-01-26_12-00.jpg\"></img>"
      }
     }
    },
    "version_major": 2,
    "version_minor": 0
   }
  }
 },
 "nbformat": 4,
 "nbformat_minor": 2
}
